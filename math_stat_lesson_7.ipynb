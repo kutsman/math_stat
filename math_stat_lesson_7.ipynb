{
 "cells": [
  {
   "cell_type": "markdown",
   "id": "6816fdcf",
   "metadata": {},
   "source": [
    "Задание 1. Даны значения величины заработной платы заемщиков банка (zp) и значения их поведенческого кредитного скоринга (ks): zp = [35, 45, 190, 200, 40, 70, 54, 150, 120, 110], ks = [401, 574, 874, 919, 459, 739, 653, 902, 746, 832]. Используя математические операции, посчитать коэффициенты линейной регрессии, приняв за X заработную плату (то есть, zp - признак), а за y - значения скорингового балла (то есть, ks - целевая переменная). Произвести расчет как с использованием intercept, так и без."
   ]
  },
  {
   "cell_type": "code",
   "execution_count": 1,
   "id": "ae9a17ca",
   "metadata": {},
   "outputs": [],
   "source": [
    "import numpy as np\n",
    "import scipy as sp\n",
    "import matplotlib.pyplot as plt"
   ]
  },
  {
   "cell_type": "code",
   "execution_count": 2,
   "id": "87a1d9c8",
   "metadata": {},
   "outputs": [],
   "source": [
    "n=10 #количество наблюдений\n",
    "x = np.array([35, 45, 190, 200, 40, 70, 54, 150, 120, 110],dtype=np.float64)\n",
    "y = np.array([401, 574, 874, 919, 459, 739, 653, 902, 746, 832],dtype=np.float64)"
   ]
  },
  {
   "cell_type": "markdown",
   "id": "d22e0b1f",
   "metadata": {},
   "source": [
    "Коэффициенты уравнения линейной регрессии можно найти следующим образом:\n",
    "$$b = \\frac{\\overline{yx} - \\overline{y} \\cdot {\\overline{x}}}{\\overline{x^2} - (\\overline{x})^2};$$\n",
    "$$a = \\overline{y} - b \\cdot {\\overline{x}}.$$"
   ]
  },
  {
   "cell_type": "code",
   "execution_count": 3,
   "id": "22df6089",
   "metadata": {},
   "outputs": [
    {
     "name": "stdout",
     "output_type": "stream",
     "text": [
      "a: 444.1773573243596\n",
      "b: 2.620538882402765\n"
     ]
    }
   ],
   "source": [
    "b = (np.mean(x * y) - np.mean(x) * np.mean(y)) / (np.mean(x**2) - np.mean(x) ** 2)\n",
    "a = np.mean(y) - b * np.mean(x)\n",
    "print(f'a: {a}') #значение при предикторе равном нулю\n",
    "print(f'b: {b}') #угол наклона прямой"
   ]
  },
  {
   "cell_type": "markdown",
   "id": "df655e79",
   "metadata": {},
   "source": [
    "Уравнение линейной регрессии: $$y = a + bx$$\n",
    "в нашем случае:$$y = 444.17 + 2.62\\cdot x$$"
   ]
  },
  {
   "cell_type": "code",
   "execution_count": 4,
   "id": "6208c5c9",
   "metadata": {
    "scrolled": true
   },
   "outputs": [
    {
     "data": {
      "text/plain": [
       "0.8874900920739162"
      ]
     },
     "execution_count": 4,
     "metadata": {},
     "output_type": "execute_result"
    }
   ],
   "source": [
    "r = b * np.std(x) / np.std(y) \n",
    "r"
   ]
  },
  {
   "cell_type": "markdown",
   "id": "7f938780",
   "metadata": {},
   "source": [
    "Узнать, насколько велика связь между переменными $x$ и $y$, можно через коэффициент детерминации. Его можно посчитать\n",
    "\n",
    "как квадрат коэффициента корреляции:\n",
    "$$R^2 = r^{2}_{xy}$$"
   ]
  },
  {
   "cell_type": "code",
   "execution_count": 5,
   "id": "d0b02b3d",
   "metadata": {
    "scrolled": true
   },
   "outputs": [
    {
     "data": {
      "text/plain": [
       "0.7876386635293682"
      ]
     },
     "execution_count": 5,
     "metadata": {},
     "output_type": "execute_result"
    }
   ],
   "source": [
    "R2 = r**2 #коэффициент детерминации\n",
    "R2 "
   ]
  },
  {
   "cell_type": "markdown",
   "id": "e3bd4f5e",
   "metadata": {},
   "source": [
    "т.е. скорринговый бал на 78.7% объясняется заработной платой заемщика"
   ]
  },
  {
   "cell_type": "code",
   "execution_count": 6,
   "id": "bf746b73",
   "metadata": {},
   "outputs": [
    {
     "data": {
      "text/plain": [
       "array([535.89621821, 562.10160703, 942.07974498, 968.2851338 ,\n",
       "       548.99891262, 627.61507909, 585.68645697, 837.25818968,\n",
       "       758.64202321, 732.43663439])"
      ]
     },
     "execution_count": 6,
     "metadata": {},
     "output_type": "execute_result"
    }
   ],
   "source": [
    "y_pred = a + b * x\n",
    "y_pred #расчет предсказанний кредитного скорринга"
   ]
  },
  {
   "cell_type": "markdown",
   "id": "3035a6c7",
   "metadata": {},
   "source": [
    "Качество модели найдем с помощью средней ошибки аппроксимации $\\overline {A}$:"
   ]
  },
  {
   "cell_type": "code",
   "execution_count": 7,
   "id": "df453198",
   "metadata": {},
   "outputs": [
    {
     "data": {
      "text/plain": [
       "11.46925184356171"
      ]
     },
     "execution_count": 7,
     "metadata": {},
     "output_type": "execute_result"
    }
   ],
   "source": [
    "A_mean = 100 * np.mean(np.abs((y - y_pred) / y))\n",
    "A_mean"
   ]
  },
  {
   "cell_type": "markdown",
   "id": "e4cda8a0",
   "metadata": {},
   "source": [
    "Значение $F_{факт}$:"
   ]
  },
  {
   "cell_type": "markdown",
   "id": "a5993206",
   "metadata": {},
   "source": [
    "Фактическая величина F-критерия для парной линейной регрессии (когда есть только один факторный признак):\n",
    "$$F_{факт} = \\frac{r_{xy}^{2} \\cdot (n - 2)}{(1 - r_{xy}^{2})}$$"
   ]
  },
  {
   "cell_type": "code",
   "execution_count": 8,
   "id": "63f83edf",
   "metadata": {},
   "outputs": [
    {
     "name": "stdout",
     "output_type": "stream",
     "text": [
      "Фактическое значение критерия Фишера:29.671640859664432\n"
     ]
    }
   ],
   "source": [
    "F_fact = (r**2 * (n - 2)) / (1 - r**2)\n",
    "print(f'Фактическое значение критерия Фишера:{F_fact}')"
   ]
  },
  {
   "cell_type": "code",
   "execution_count": 9,
   "id": "3063dd2c",
   "metadata": {},
   "outputs": [
    {
     "data": {
      "image/png": "[encoded data removed]",
      "text/plain": [
       "<Figure size 640x480 with 1 Axes>"
      ]
     },
     "metadata": {},
     "output_type": "display_data"
    }
   ],
   "source": [
    "plt.scatter(x,y)\n",
    "plt.plot(x,444.17+2.62*x, 'green')\n",
    "plt.show()"
   ]
  },
  {
   "cell_type": "markdown",
   "id": "a6c0ccb9",
   "metadata": {},
   "source": [
    "Поиск с помощью линейного метода наименьших квадратов:\n",
    "$$b = (X^T \\cdot X)^{-1} \\cdot X^T \\cdot y$$"
   ]
  },
  {
   "cell_type": "code",
   "execution_count": 10,
   "id": "e7b75c86",
   "metadata": {},
   "outputs": [
    {
     "data": {
      "text/plain": [
       "array([[ 35, 401],\n",
       "       [ 45, 574],\n",
       "       [190, 874],\n",
       "       [200, 919],\n",
       "       [ 40, 459],\n",
       "       [ 70, 739],\n",
       "       [ 54, 653],\n",
       "       [150, 902],\n",
       "       [120, 746],\n",
       "       [110, 832]])"
      ]
     },
     "execution_count": 10,
     "metadata": {},
     "output_type": "execute_result"
    }
   ],
   "source": [
    "x1 = np.array([35, 45, 190, 200, 40, 70, 54, 150, 120, 110])\n",
    "y1 = np.array([401, 574, 874, 919, 459, 739, 653, 902, 746, 832])\n",
    "np.column_stack([x1, y1])"
   ]
  },
  {
   "cell_type": "code",
   "execution_count": 11,
   "id": "62de7510",
   "metadata": {},
   "outputs": [
    {
     "name": "stdout",
     "output_type": "stream",
     "text": [
      "Коэффициент линейной регрессии без b0(intercept): [5.88982042]\n"
     ]
    },
    {
     "data": {
      "image/png": "[encoded data removed]",
      "text/plain": [
       "<Figure size 640x480 with 1 Axes>"
      ]
     },
     "metadata": {},
     "output_type": "display_data"
    }
   ],
   "source": [
    "data = np.column_stack([x1, y1])\n",
    "X, y = data[:,0], data[:,1]\n",
    "X = X.reshape((len(X), 1))\n",
    "b = np.linalg.inv(X.T.dot(X)).dot(X.T).dot(y)\n",
    "print(f'Коэффициент линейной регрессии без b0(intercept): {b}')\n",
    "y_result = X.dot(b)\n",
    "plt.scatter(X, y)\n",
    "plt.plot(X, y_result, color='red')\n",
    "plt.plot(x,444.17+2.62*x, 'green')\n",
    "plt.show()"
   ]
  },
  {
   "cell_type": "markdown",
   "id": "fbc82a4e",
   "metadata": {},
   "source": [
    "Задание 2. В каких случаях для вычисления доверительных интервалов и проверки статистических гипотез используется таблица значений функции Лапласа, а в каких - таблица критических точек распределения Стьюдента?"
   ]
  },
  {
   "cell_type": "markdown",
   "id": "0c2268c4",
   "metadata": {},
   "source": [
    "Критерий Фишера для двух выборок проверяет нулевую гипотезу о равенстве дисперсий двух выборок, а критерий Стьюдента – гипотезу о равенстве выборочных средних.\n",
    "\n",
    "Если $\\sigma$ известно, т.е. анализ проводился, то критерий оценки $K$ является критерием Фишера $Z$ из таблицы распределения Лапласа\n",
    "\n",
    "Если среднеквадратичное отклонение $\\sigma$ не известно, т.е. не было анализа, то критерий оценки $K$ равен критерию оценки $T$ из таблицы распределения Стьюдента"
   ]
  },
  {
   "cell_type": "code",
   "execution_count": null,
   "id": "20d51e82",
   "metadata": {},
   "outputs": [],
   "source": []
  }
 ],
 "metadata": {
  "kernelspec": {
   "display_name": "Python 3 (ipykernel)",
   "language": "python",
   "name": "python3"
  },
  "language_info": {
   "codemirror_mode": {
    "name": "ipython",
    "version": 3
   },
   "file_extension": ".py",
   "mimetype": "text/x-python",
   "name": "python",
   "nbconvert_exporter": "python",
   "pygments_lexer": "ipython3",
   "version": "3.8.10"
  }
 },
 "nbformat": 4,
 "nbformat_minor": 5
}
