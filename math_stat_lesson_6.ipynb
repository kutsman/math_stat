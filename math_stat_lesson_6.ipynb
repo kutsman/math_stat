{
 "cells": [
  {
   "cell_type": "code",
   "execution_count": 1,
   "id": "acec46a3",
   "metadata": {},
   "outputs": [],
   "source": [
    "import numpy as np"
   ]
  },
  {
   "cell_type": "markdown",
   "id": "e3d01c5a",
   "metadata": {},
   "source": [
    "Задание 1. Даны значения величины заработной платы заемщиков банка (zp) и значения их поведенческого кредитного скоринга (ks):\n",
    "zp = [35, 45, 190, 200, 40, 70, 54, 150, 120, 110],\n",
    "ks = [401, 574, 874, 919, 459, 739, 653, 902, 746, 832].\n",
    "Найдите ковариацию этих двух величин с помощью элементарных действий, а затем с помощью функции cov из numpy\n",
    "Полученные значения должны быть равны.\n",
    "Найдите коэффициент корреляции Пирсона с помощью ковариации и среднеквадратичных отклонений двух признаков,\n",
    "а затем с использованием функций из библиотек numpy и pandas."
   ]
  },
  {
   "cell_type": "code",
   "execution_count": 2,
   "id": "57a6eda1",
   "metadata": {},
   "outputs": [],
   "source": [
    "zp = np.array([35, 45, 190, 200, 40, 70, 54, 150, 120, 110])\n",
    "ks = np.array([401, 574, 874, 919, 459, 739, 653, 902, 746, 832])"
   ]
  },
  {
   "cell_type": "markdown",
   "id": "13762c15",
   "metadata": {},
   "source": [
    "$$cov_{XY} = M[(X - M(X))(Y - M(Y))] = M(XY) - M(X)M(Y)=\\overline{X \\cdot Y} - \\overline{X} \\cdot \\overline{Y}$$"
   ]
  },
  {
   "cell_type": "markdown",
   "id": "2bff4eff",
   "metadata": {},
   "source": [
    "Зная ковариацию и среднее квадратичное отклонение каждого из двух признаков, можно вычислить коэффициент корреляции Пирсона:\n",
    "$$r_{XY} = \\frac{cov_{XY}}{\\sigma_{X}\\sigma_{Y}}$$"
   ]
  },
  {
   "cell_type": "code",
   "execution_count": 3,
   "id": "e8b554e8",
   "metadata": {},
   "outputs": [
    {
     "data": {
      "text/plain": [
       "array([ 14035,  25830, 166060, 183800,  18360,  51730,  35262, 135300,\n",
       "        89520,  91520])"
      ]
     },
     "execution_count": 3,
     "metadata": {},
     "output_type": "execute_result"
    }
   ],
   "source": [
    "zp*ks"
   ]
  },
  {
   "cell_type": "markdown",
   "id": "b69b7411",
   "metadata": {},
   "source": [
    "$$cov_{XY}= \\frac{14035+25830+166060+183800+18360+51730+35262+135300+89520+91520}{10}-\\frac{35+45+190+200+40+70+54+150+120+110}{10} \\cdot \\frac{401+574+874+919+459+739+653+902+746+832}{10} $$"
   ]
  },
  {
   "cell_type": "code",
   "execution_count": 4,
   "id": "bb71ed4c",
   "metadata": {},
   "outputs": [
    {
     "data": {
      "text/plain": [
       "811417"
      ]
     },
     "execution_count": 4,
     "metadata": {},
     "output_type": "execute_result"
    }
   ],
   "source": [
    "14035+25830+166060+183800+18360+51730+35262+135300+89520+91520"
   ]
  },
  {
   "cell_type": "code",
   "execution_count": 5,
   "id": "6aaf8480",
   "metadata": {},
   "outputs": [
    {
     "data": {
      "text/plain": [
       "1014"
      ]
     },
     "execution_count": 5,
     "metadata": {},
     "output_type": "execute_result"
    }
   ],
   "source": [
    "35+45+190+200+40+70+54+150+120+110"
   ]
  },
  {
   "cell_type": "code",
   "execution_count": 6,
   "id": "7557c920",
   "metadata": {},
   "outputs": [
    {
     "data": {
      "text/plain": [
       "7099"
      ]
     },
     "execution_count": 6,
     "metadata": {},
     "output_type": "execute_result"
    }
   ],
   "source": [
    "401+574+874+919+459+739+653+902+746+832"
   ]
  },
  {
   "cell_type": "code",
   "execution_count": 7,
   "id": "9471f198",
   "metadata": {},
   "outputs": [
    {
     "data": {
      "text/plain": [
       "7198386"
      ]
     },
     "execution_count": 7,
     "metadata": {},
     "output_type": "execute_result"
    }
   ],
   "source": [
    "1014*7099"
   ]
  },
  {
   "cell_type": "code",
   "execution_count": 8,
   "id": "fe2a3ace",
   "metadata": {},
   "outputs": [
    {
     "data": {
      "text/plain": [
       "915784"
      ]
     },
     "execution_count": 8,
     "metadata": {},
     "output_type": "execute_result"
    }
   ],
   "source": [
    "8114170-7198386"
   ]
  },
  {
   "cell_type": "markdown",
   "id": "5d1d3ef2",
   "metadata": {},
   "source": [
    "$$cov_{XY}= \\frac{811417}{10}-\\frac{1014}{10} \\cdot \\frac{7099}{10}=\\frac{8114170}{100}-\\frac{7198386}{100}=\\frac{8114170-7198386}{100}=\\frac{915784}{100}$$"
   ]
  },
  {
   "cell_type": "code",
   "execution_count": 9,
   "id": "62214c78",
   "metadata": {},
   "outputs": [
    {
     "data": {
      "text/plain": [
       "9157.839999999997"
      ]
     },
     "execution_count": 9,
     "metadata": {},
     "output_type": "execute_result"
    }
   ],
   "source": [
    "cov_xy=np.mean(zp*ks)-np.mean(zp)*np.mean(ks) #проверка\n",
    "cov_xy"
   ]
  },
  {
   "cell_type": "markdown",
   "id": "e7e1b6ca",
   "metadata": {},
   "source": [
    "Среднеквадратичное отклоение\n",
    "$$\\sigma = \\sqrt{\\frac{\\sum\\limits_{i=1}^{n} (x_i - \\overline{x})^2}{n}}$$,\n",
    "где $$\\overline{X} = \\frac{1014}{10}=101.4$$\n",
    "$$\\overline{Y} = \\frac{7099}{10}=709.9$$"
   ]
  },
  {
   "cell_type": "markdown",
   "id": "4abeef79",
   "metadata": {},
   "source": [
    "$$\\sigma_{ZP} = \\sqrt{\\frac{(35-101.4)^2+(45-101.4)^2+(190-101.4)^2+(200-101.4)^2+(40-101.4)^2+(70-101.4)^2+(54-101.4)^2+(150-101.4)^2+(120-101.4)^2+(110-101.4)^2}{10}}=\\sqrt{\\frac{(-66.4)^2+(-56.4)^2+(88.6)^2+(98.6)^2+(-61.4)^2+(-31.4)^2+(-47.4)^2+(48.6)^2+(18.6)^2+(8.6)^2}{10}}=\\frac{\\sqrt{34946.399}}{3.16227}=\\frac{186.939}{3.16227}=59.11548$$"
   ]
  },
  {
   "cell_type": "code",
   "execution_count": 10,
   "id": "bd45c498",
   "metadata": {},
   "outputs": [
    {
     "data": {
      "text/plain": [
       "59.115480206118605"
      ]
     },
     "execution_count": 10,
     "metadata": {},
     "output_type": "execute_result"
    }
   ],
   "source": [
    "np.std(zp)"
   ]
  },
  {
   "cell_type": "code",
   "execution_count": 11,
   "id": "8b848824",
   "metadata": {},
   "outputs": [
    {
     "data": {
      "text/plain": [
       "3.1622776601683795"
      ]
     },
     "execution_count": 11,
     "metadata": {},
     "output_type": "execute_result"
    }
   ],
   "source": [
    "np.sqrt(10)"
   ]
  },
  {
   "cell_type": "code",
   "execution_count": 12,
   "id": "a18bf969",
   "metadata": {},
   "outputs": [
    {
     "data": {
      "text/plain": [
       "34946.399999999994"
      ]
     },
     "execution_count": 12,
     "metadata": {},
     "output_type": "execute_result"
    }
   ],
   "source": [
    "(66.4)**2+(56.4)**2+(88.6)**2+(98.6)**2+(61.4)**2+(31.4)**2+(47.4)**2+(48.6)**2+(18.6)**2+(8.6)**2"
   ]
  },
  {
   "cell_type": "code",
   "execution_count": 13,
   "id": "daec2d9a",
   "metadata": {},
   "outputs": [
    {
     "data": {
      "text/plain": [
       "186.93956242593487"
      ]
     },
     "execution_count": 13,
     "metadata": {},
     "output_type": "execute_result"
    }
   ],
   "source": [
    "np.sqrt((66.4)**2+(56.4)**2+(88.6)**2+(98.6)**2+(61.4)**2+(31.4)**2+(47.4)**2+(48.6)**2+(18.6)**2+(8.6)**2)"
   ]
  },
  {
   "cell_type": "markdown",
   "id": "1c8e9179",
   "metadata": {},
   "source": [
    "$$\\sigma_{KS} = \\sqrt{\\frac{(401-709.9)^2+(574-709.9)^2+(874-709.9)^2+(919-709.9)^2+(459-709.9)^2+(739-709.9)^2+(653-709.9)^2+(902-709.9)^2+(746-709.9)^2+(832-709.9)^2}{10}}=\\sqrt{\\frac{(-308.9)^2+(-135.9)^2+(164.1)^2+(209.1)^2+(-250.9)^2+(29.1)^2+(-56.9)^2+(192.1)^2+(36.1)^2+(122.1)^2}{10}}\\frac{\\sqrt{304688.899}}{3.16227}=\\frac{551.98}{3.16227}=174.551$$"
   ]
  },
  {
   "cell_type": "code",
   "execution_count": 14,
   "id": "077994b6",
   "metadata": {},
   "outputs": [
    {
     "data": {
      "text/plain": [
       "174.55340157098058"
      ]
     },
     "execution_count": 14,
     "metadata": {},
     "output_type": "execute_result"
    }
   ],
   "source": [
    "np.std(ks)"
   ]
  },
  {
   "cell_type": "code",
   "execution_count": 15,
   "id": "67838628",
   "metadata": {
    "scrolled": true
   },
   "outputs": [
    {
     "data": {
      "text/plain": [
       "304688.89999999997"
      ]
     },
     "execution_count": 15,
     "metadata": {},
     "output_type": "execute_result"
    }
   ],
   "source": [
    "(308.9)**2+(135.9)**2+(164.1)**2+(209.1)**2+(250.9)**2+(29.1)**2+(56.9)**2+(192.1)**2+(36.1)**2+(122.1)**2"
   ]
  },
  {
   "cell_type": "code",
   "execution_count": 16,
   "id": "a37e7837",
   "metadata": {},
   "outputs": [
    {
     "data": {
      "text/plain": [
       "551.9863222943119"
      ]
     },
     "execution_count": 16,
     "metadata": {},
     "output_type": "execute_result"
    }
   ],
   "source": [
    "np.sqrt((308.9)**2+(135.9)**2+(164.1)**2+(209.1)**2+(250.9)**2+(29.1)**2+(56.9)**2+(192.1)**2+(36.1)**2+(122.1)**2)"
   ]
  },
  {
   "cell_type": "markdown",
   "id": "52d7a411",
   "metadata": {},
   "source": [
    "Подставляем в формулу:\n",
    "$$r_{XY} = \\frac{cov_{XY}}{\\sigma_{X}\\sigma_{Y}}=\\frac{\\frac{915784}{100}}{59.11548 \\cdot 174.551}=\\frac{915784}{100 \\cdot 59.11548 \\cdot 174.551}=\\frac{915784}{1031871.49}=0.88749$$"
   ]
  },
  {
   "cell_type": "code",
   "execution_count": 17,
   "id": "45a6ccc6",
   "metadata": {},
   "outputs": [
    {
     "data": {
      "text/plain": [
       "array([[ 3494.64,  9157.84],\n",
       "       [ 9157.84, 30468.89]])"
      ]
     },
     "execution_count": 17,
     "metadata": {},
     "output_type": "execute_result"
    }
   ],
   "source": [
    "cov_xy=np.cov(zp, ks, ddof=0) #проверка значения ковариации\n",
    "cov_xy"
   ]
  },
  {
   "cell_type": "code",
   "execution_count": 18,
   "id": "737691a7",
   "metadata": {},
   "outputs": [
    {
     "data": {
      "text/plain": [
       "array([[1.        , 0.88749009],\n",
       "       [0.88749009, 1.        ]])"
      ]
     },
     "execution_count": 18,
     "metadata": {},
     "output_type": "execute_result"
    }
   ],
   "source": [
    "np.corrcoef(zp, ks) #проверка коэффициента вариации Пирсона"
   ]
  },
  {
   "cell_type": "markdown",
   "id": "31d38833",
   "metadata": {},
   "source": [
    "в результате все сходится"
   ]
  },
  {
   "cell_type": "markdown",
   "id": "70b2addd",
   "metadata": {},
   "source": [
    "Задание 2. Измерены значения IQ выборки студентов, обучающихся в местных технических вузах: 131, 125, 115, 122, 131, 115, 107, 99, 125, 111. Известно, что в генеральной совокупности IQ распределен нормально. Найдите доверительный интервал для математического ожидания с надежностью 0.95."
   ]
  },
  {
   "cell_type": "markdown",
   "id": "e07fbb36",
   "metadata": {},
   "source": [
    "<br>$n= 10$\n",
    "<br>$α=1-p=0.05$\n",
    "<br>$p=0.95$\n",
    "\n",
    "$\\sigma$ не известна, не было анализа\n",
    "\n",
    "Значит критерий $К$ равен критерию $Т$(Стьюдента) из таблицы Стьюдента."
   ]
  },
  {
   "cell_type": "markdown",
   "id": "02f1cd4b",
   "metadata": {},
   "source": [
    "$\\overline{x}=\\frac{131+125+115+122+131+115+107+99+125+111}{10}=118.1$"
   ]
  },
  {
   "cell_type": "code",
   "execution_count": 19,
   "id": "1aec8616",
   "metadata": {},
   "outputs": [
    {
     "data": {
      "text/plain": [
       "118.1"
      ]
     },
     "execution_count": 19,
     "metadata": {},
     "output_type": "execute_result"
    }
   ],
   "source": [
    "iq=np.array([131, 125, 115, 122, 131, 115, 107, 99, 125, 111])\n",
    "np.mean(iq)"
   ]
  },
  {
   "cell_type": "markdown",
   "id": "dc469b08",
   "metadata": {},
   "source": [
    "Доверительный интервал ищем по формуле: \n",
    "$$T_{1,2} = \\overline{X} \\pm \\frac{s_0}{\\sqrt{n}} \\cdot c_{\\gamma}$$\n",
    "\n",
    "где $c_{\\gamma}=2.2622$ согласно таблице Стьюдента"
   ]
  },
  {
   "cell_type": "markdown",
   "id": "efe22b7d",
   "metadata": {},
   "source": [
    "Так как выборка $n < 100$ используем:\n",
    "    $$\\sigma_{несмещен} = \\sqrt{\\frac{\\sum\\limits_{i=1}^{n} (x_i - \\overline{x})^2}{n-1}}$$"
   ]
  },
  {
   "cell_type": "markdown",
   "id": "665010f7",
   "metadata": {},
   "source": [
    "$$\\sigma_{несмещен}=\\sqrt{\\frac{(131-118.1)^2+(125-118.1)^2+(115-118.1)^2+(122-118.1)^2+(131-118.1)^2+(115-118.1)^2+(107-118.1)^2+(99-118.1)^2+(125-118.1)^2+(111-118.1)^2}{9}}=\\sqrt{\\frac{(12.9)^2+(6.9)^2+(-3.1)^2+(3.9)^2+(12.9)^2+(-3.1)^2+(-11.1)^2+(-19.1)^2+(6.9)^2+(-7.1)^2}{9}}=\\sqrt{\\frac{(12.9)^2+(6.9)^2+(-3.1)^2+(3.9)^2+(12.9)^2+(-3.1)^2+(-11.1)^2+(-19.1)^2+(6.9)^2+(-7.1)^2}{9}}=\\sqrt{\\frac{1000.9}{9}}=\\frac{31.637}{3}=10.545$$"
   ]
  },
  {
   "cell_type": "code",
   "execution_count": 20,
   "id": "4ea682bf",
   "metadata": {},
   "outputs": [
    {
     "data": {
      "text/plain": [
       "1000.9000000000001"
      ]
     },
     "execution_count": 20,
     "metadata": {},
     "output_type": "execute_result"
    }
   ],
   "source": [
    "(12.9)**2+(6.9)**2+(3.1)**2+(3.9)**2+(12.9)**2+(3.1)**2+(11.1)**2+(19.1)**2+(6.9)**2+(7.1)**2"
   ]
  },
  {
   "cell_type": "code",
   "execution_count": 21,
   "id": "775b3e6e",
   "metadata": {},
   "outputs": [
    {
     "data": {
      "text/plain": [
       "31.637003650788426"
      ]
     },
     "execution_count": 21,
     "metadata": {},
     "output_type": "execute_result"
    }
   ],
   "source": [
    "np.sqrt((12.9)**2+(6.9)**2+(3.1)**2+(3.9)**2+(12.9)**2+(3.1)**2+(11.1)**2+(19.1)**2+(6.9)**2+(7.1)**2)"
   ]
  },
  {
   "cell_type": "code",
   "execution_count": 23,
   "id": "db914f13",
   "metadata": {},
   "outputs": [
    {
     "data": {
      "text/plain": [
       "10.54566788359614"
      ]
     },
     "execution_count": 23,
     "metadata": {},
     "output_type": "execute_result"
    }
   ],
   "source": [
    "sigma = np.std(iq, ddof=1) #проверка\n",
    "sigma"
   ]
  },
  {
   "cell_type": "markdown",
   "id": "f798c726",
   "metadata": {},
   "source": [
    "$$T_{1,2} = 118.1 \\pm \\frac{10.545}{\\sqrt{10}} \\cdot 2.2622 =118.1 \\pm \\frac{10.545}{3.16227} \\cdot 2.2622=118.1 \\pm 7.54359$$\n",
    "\n",
    "$$T_{1}= 118.1 + 7.54359 = 125.643$$\n",
    "$$T_{2}= 118.1 - 7.54359 = 110.556$$\n",
    "\n",
    "Доверительный интервал равен = $[110.556, 125.643]$"
   ]
  },
  {
   "cell_type": "code",
   "execution_count": 24,
   "id": "31232c91",
   "metadata": {},
   "outputs": [],
   "source": [
    "import scipy.stats as st"
   ]
  },
  {
   "cell_type": "code",
   "execution_count": 25,
   "id": "cf79c1b1",
   "metadata": {},
   "outputs": [
    {
     "data": {
      "text/plain": [
       "(110.55608365158724, 125.64391634841274)"
      ]
     },
     "execution_count": 25,
     "metadata": {},
     "output_type": "execute_result"
    }
   ],
   "source": [
    "#Если мы работаем с небольшой выборкой (n <30), мы можем использовать функцию t.interval() \n",
    "#из библиотеки scipy.stats, чтобы вычислить доверительный интервал для среднего значения совокупности.\n",
    "n=10\n",
    "st.t.interval(confidence=0.95, df=n-1, loc=np.mean(iq), scale=st.sem(iq))  #проверка"
   ]
  },
  {
   "cell_type": "markdown",
   "id": "eee244b7",
   "metadata": {},
   "source": [
    "Задание 3. Известно, что рост футболистов в сборной распределен нормально с дисперсией генеральной совокупности, равной 25 кв.см. Объем выборки равен 27, среднее выборочное составляет 174.2. Найдите доверительный интервал для математического ожидания с надежностью 0.95."
   ]
  },
  {
   "cell_type": "markdown",
   "id": "4a2ed5bf",
   "metadata": {},
   "source": [
    "$\\sigma^2 = 25$ нам дано значение дисперсии\n",
    "<br>$n=27$\n",
    "<br>$p=0.95$\n",
    "<br>$\\overline{x}=174.2$\n",
    "\n",
    "Известна  $𝜎$\n",
    "значит критерий оценки $K$ является критерием Фишера  $𝑍$ из таблицы распределения Лапласа при $\\frac{\\alpha}{2}$ и $Z=-1.96$"
   ]
  },
  {
   "cell_type": "markdown",
   "id": "75f15251",
   "metadata": {},
   "source": [
    "Среднеквадратичное отклонение будет равно $\\sqrt{\\sigma^2}$, подставим все значения в формулу доверительно интервала:\n",
    "\n",
    "$$T_{1,2} = 174.2 \\pm \\frac{\\sqrt{25}}{\\sqrt{27}} \\cdot -1.96 =174.2 \\pm \\frac{5}{5.1961} \\cdot -1.96=174.2 \\pm 1.886$$\n",
    "\n",
    "$$T_{1} = 174.2 - 1.886 = 172.314$$\n",
    "$$T_{2} = 174.2 + 1.886 = 176.086$$\n",
    "\n",
    "Доверительный интервал = $[172.314,176.086]$"
   ]
  },
  {
   "cell_type": "code",
   "execution_count": 26,
   "id": "1052a528",
   "metadata": {},
   "outputs": [
    {
     "data": {
      "text/plain": [
       "5.196152422706632"
      ]
     },
     "execution_count": 26,
     "metadata": {},
     "output_type": "execute_result"
    }
   ],
   "source": [
    "np.sqrt(27)"
   ]
  },
  {
   "cell_type": "code",
   "execution_count": 29,
   "id": "500b3623",
   "metadata": {},
   "outputs": [
    {
     "data": {
      "text/plain": [
       "1.8860108793527774"
      ]
     },
     "execution_count": 29,
     "metadata": {},
     "output_type": "execute_result"
    }
   ],
   "source": [
    "(5/np.sqrt(27))*1.96"
   ]
  },
  {
   "cell_type": "code",
   "execution_count": 30,
   "id": "8c9a99d5",
   "metadata": {},
   "outputs": [
    {
     "data": {
      "text/plain": [
       "(172.3140237765397, 176.08597622346028)"
      ]
     },
     "execution_count": 30,
     "metadata": {},
     "output_type": "execute_result"
    }
   ],
   "source": [
    "n=27\n",
    "sigma=5\n",
    "st.norm.interval(confidence=0.95, loc=174.2, scale=(sigma/np.sqrt(n))) #проверка значений доверительного интервала"
   ]
  },
  {
   "cell_type": "code",
   "execution_count": null,
   "id": "6ad9fe05",
   "metadata": {},
   "outputs": [],
   "source": []
  }
 ],
 "metadata": {
  "kernelspec": {
   "display_name": "Python 3 (ipykernel)",
   "language": "python",
   "name": "python3"
  },
  "language_info": {
   "codemirror_mode": {
    "name": "ipython",
    "version": 3
   },
   "file_extension": ".py",
   "mimetype": "text/x-python",
   "name": "python",
   "nbconvert_exporter": "python",
   "pygments_lexer": "ipython3",
   "version": "3.8.10"
  }
 },
 "nbformat": 4,
 "nbformat_minor": 5
}
