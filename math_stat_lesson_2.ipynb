{
 "cells": [
  {
   "cell_type": "markdown",
   "id": "630425b0",
   "metadata": {},
   "source": [
    "Задание 1. Вероятность того, что стрелок попадет в мишень, выстрелив один раз, равна 0.8. Стрелок выстрелил 100 раз. Найдите вероятность того, что стрелок попадет в цель ровно 85 раз."
   ]
  },
  {
   "cell_type": "markdown",
   "id": "cd246b23",
   "metadata": {},
   "source": [
    "$n=100$, <br>$k=85$ <br>$p=0.8$ <br>$q=1-p$\n",
    "\n",
    "Вероятность попадания в цель ровно 85 раз:\n",
    "\n",
    "$$p(k=85) = C_n^kp^kq^{n-k} = C_{100}^{85}0.8^{85}(1-p)^{100-85} = C_{100}^{85}0.8^{85}0.2^{15} =\\frac{100!}{85!(100-85)!} \\cdot 0.8^{85} \\cdot 0.2^{15} = \\frac{144!}{70!(74)!} \\cdot 0.5^{144}=0.06281$$"
   ]
  },
  {
   "cell_type": "code",
   "execution_count": 1,
   "id": "f6698a2b",
   "metadata": {},
   "outputs": [
    {
     "name": "stdout",
     "output_type": "stream",
     "text": [
      "Вероятность попадания в цель ровно 85 раз: 0.04806 = 4.806% \n"
     ]
    }
   ],
   "source": [
    "import numpy as np\n",
    "p=0.8\n",
    "k=85\n",
    "n=100\n",
    "from math import factorial\n",
    "def combinations(n, k):\n",
    "    return int(factorial(n) / (factorial(k) * factorial(n - k)))\n",
    "p_shooter=combinations(n, k)*(p**k)*(1-p)**(n-k)\n",
    "print(f'Вероятность попадания в цель ровно {k} раз: {round(p_shooter,5)} = {round(p_shooter*100,3)}% ')"
   ]
  },
  {
   "cell_type": "code",
   "execution_count": 2,
   "id": "6ab12b72",
   "metadata": {},
   "outputs": [
    {
     "data": {
      "text/plain": [
       "79"
      ]
     },
     "execution_count": 2,
     "metadata": {},
     "output_type": "execute_result"
    }
   ],
   "source": [
    "np.random.binomial(n=100, p=0.8)"
   ]
  },
  {
   "cell_type": "markdown",
   "id": "236b230b",
   "metadata": {},
   "source": [
    "Задание 2. Вероятность того, что лампочка перегорит в течение первого дня эксплуатации, равна 0.0004. В жилом комплексе после ремонта в один день включили 5000 новых лампочек. Какова вероятность, что ни одна из них не перегорит в первый день? Какова вероятность, что перегорят ровно две?"
   ]
  },
  {
   "cell_type": "markdown",
   "id": "2ce4d205",
   "metadata": {},
   "source": [
    "Если проводится большое количество испытаний $n$ и при этом вероятность $p$ появления события $A$ в отдельном испытании мала, применяют формулу Пуассона для вычисления вероятности того, что событие произойдет $m$ раз в $n$ испытаниях: $$P_m \\approx \\frac{\\lambda^m}{m!}e^{-\\lambda}$$\n",
    "\n",
    "Применим формулу Пуассона: <br>$n=5000$, <br>$p=0.0004$ <br>$m=0$ - так как не одна лампочка не перегорела   <br><br>$λ=np=5000⋅0.0004=2$\n",
    "\n",
    "$$P_{0} \\approx \\frac{\\lambda^m}{m!}e^{-\\lambda} \\approx \\frac{2^{0}}{0!}e^{-2} \\approx  0.13534$$"
   ]
  },
  {
   "cell_type": "code",
   "execution_count": 3,
   "id": "db1498e6",
   "metadata": {},
   "outputs": [
    {
     "name": "stdout",
     "output_type": "stream",
     "text": [
      "Вероятность, что ни одна лампа не перегорит в первый день: 0.13534 = 13.534% \n"
     ]
    }
   ],
   "source": [
    "n = 5000\n",
    "m = 0\n",
    "p = 0.0004\n",
    "lambda_ = n * p\n",
    "\n",
    "p_0=(lambda_**m / np.math.factorial(m)) * np.exp(-lambda_)\n",
    "print(f'Вероятность, что ни одна лампа не перегорит в первый день: {round(p_0,5)} = {round(p_0*100,3)}% ')"
   ]
  },
  {
   "cell_type": "markdown",
   "id": "f7a29e77",
   "metadata": {},
   "source": [
    "Вероятность, что перегорят в первый день две:\n",
    "\n",
    "<br>$n=5000$, <br>$p=0.0004$ <br>$m=2$ - перегорят сразу две лампы в первый день   <br><br>$λ=np=5000⋅0.0004=2$\n",
    "\n",
    "$$P_{2} \\approx \\frac{\\lambda^m}{m!}e^{-\\lambda} \\approx \\frac{2^{2}}{2!}e^{-2} \\approx  0.27067$$\n",
    "    "
   ]
  },
  {
   "cell_type": "code",
   "execution_count": 4,
   "id": "9ee5cc73",
   "metadata": {},
   "outputs": [
    {
     "name": "stdout",
     "output_type": "stream",
     "text": [
      "Вероятность, что две лампочки перегорят в первый день: 0.27067 = 27.067% \n"
     ]
    }
   ],
   "source": [
    "n = 5000\n",
    "m = 2\n",
    "p = 0.0004\n",
    "lambda_ = n * p\n",
    "\n",
    "p_2=(lambda_**m / np.math.factorial(m)) * np.exp(-lambda_)\n",
    "print(f'Вероятность, что две лампочки перегорят в первый день: {round(p_2,5)} = {round(p_2*100,3)}% ')"
   ]
  },
  {
   "cell_type": "markdown",
   "id": "6e8bf374",
   "metadata": {},
   "source": [
    "Задача 3. Монету подбросили 144 раза. Какова вероятность, что орел выпадет ровно 70 раз?"
   ]
  },
  {
   "cell_type": "markdown",
   "id": "3abafc86",
   "metadata": {},
   "source": [
    "$n=144$, <br>$k=70$ <br>$p=0.5$ <br>$q=1-p$\n",
    "\n",
    "Вероятность выпадения орла при 70 кратном подбрасывании:\n",
    "\n",
    "$$p(k=70) = C_n^kp^kq^{n-k} = C_{144}^{70}0.5^{70}(1-p)^{144-70} = C_{144}^{70}0.5^{70}0.5^{74} =\\frac{144!}{70!(144-70)!} \\cdot 0.5^{70} \\cdot 0.5^{74} = \\frac{144!}{70!(74)!} \\cdot 0.5^{144}=0.06281$$\n"
   ]
  },
  {
   "cell_type": "code",
   "execution_count": 5,
   "id": "0b9e7408",
   "metadata": {},
   "outputs": [
    {
     "name": "stdout",
     "output_type": "stream",
     "text": [
      "Вероятность выпадения орла ровно 70 раз: 0.06281 = 6.281% \n"
     ]
    }
   ],
   "source": [
    "p=0.5\n",
    "k=70\n",
    "n=144\n",
    "from math import factorial\n",
    "def combinations(n, k):\n",
    "    return int(factorial(n) / (factorial(k) * factorial(n - k)))\n",
    "p_c=combinations(n, k)*(p**k)*(1-p)**(n-k)\n",
    "print(f'Вероятность выпадения орла ровно {k} раз: {round(p_c,5)} = {round(p_c*100,3)}% ')"
   ]
  },
  {
   "cell_type": "markdown",
   "id": "fe4f368e",
   "metadata": {},
   "source": [
    "Задание 4. В первом ящике находится 10 мячей, из которых 7 - белые. Во втором ящике - 11 мячей, из которых 9 белых. Из каждого ящика вытаскивают случайным образом по два мяча.\n",
    "<br>а)Какова вероятность того, что все мячи белые? \n",
    "<br>б)Какова вероятность того, что ровно два мяча белые? \n",
    "<br>в)Какова вероятность того, что хотя бы один мяч белый?"
   ]
  },
  {
   "cell_type": "markdown",
   "id": "43bb3bb9",
   "metadata": {},
   "source": [
    "Решение а)\n",
    "\n",
    "Вероятность достать белый шар первый раз из 1-ого ящика - $\\frac{7}{10}$\n",
    "\n",
    "Вероятность достать второй белый шар из первого ящика, когда уже достали 1 белый $\\frac{6}{9}$ (так как шаров уже осталось 9 и мы знаем что белых осталось 6)\n",
    "<br>У нас зависимые события:\n",
    "\n",
    "Вероятность появления двух зависимых событий:\n",
    "\n",
    "$$P(A*B) = P(A) * P(B\\:|\\:A) = P(B) * P(A\\:|\\:B)$$"
   ]
  },
  {
   "cell_type": "markdown",
   "id": "19092f62",
   "metadata": {},
   "source": [
    "$p_{1}= \\frac{7}{10} \\cdot \\frac{6}{9}$ - вероятность достать два белых шара подряд из 1-ого ящика\n",
    "\n",
    "Вероятность достать белый шар первый раз из 2-ого ящика$\\frac{9}{11}$\n",
    "Вероятность достать второй белый шар из 2-ого ящика, когда уже достали 1 белый $\\frac{8}{10}$\n",
    "\n",
    "Аналогично: $p_{2}= \\frac{9}{11} \\cdot \\frac{8}{10}$\n",
    "\n",
    "Вероятность одновременного появления двух независимых событий вычисляется по формуле:$$P(A*B) = P(A) * P(B)$$\n",
    "\n",
    "$P = p_{1}\\cdot p_{2} = \\frac{7}{10} \\cdot \\frac{6}{9} \\cdot \\frac{9}{11} \\cdot \\frac{8}{10}=\\frac{7\\cdot 6 \\cdot 9 \\cdot 8}{10 \\cdot 9 \\cdot 11 \\cdot 10} = \\frac{7\\cdot 6 \\cdot 8}{10 \\cdot 11 \\cdot 10}=\\frac{7\\cdot 6 \\cdot 4}{5 \\cdot 11 \\cdot 10}$\n"
   ]
  },
  {
   "cell_type": "code",
   "execution_count": 6,
   "id": "a6a1913f",
   "metadata": {},
   "outputs": [
    {
     "name": "stdout",
     "output_type": "stream",
     "text": [
      "Проверка: 0.305 = 30.545%\n"
     ]
    }
   ],
   "source": [
    "print(f'Проверка: {round((0.7*(6/9)*(9/11)*0.8),3)} = {round(100*(0.7*(6/9)*(9/11)*0.8),3)}%')"
   ]
  },
  {
   "cell_type": "markdown",
   "id": "216c8c12",
   "metadata": {},
   "source": [
    "б)Какова вероятность того, что ровно два мяча белые?"
   ]
  },
  {
   "cell_type": "markdown",
   "id": "4875256b",
   "metadata": {},
   "source": [
    "Тут возможны следующие варианты:\n",
    "\n",
    "<br>б+б (1) & нб+нб (2)  $ p_{1^1}= \\frac{7}{10} \\cdot \\frac{6}{9},  p_{2^1}= \\frac{2}{11} \\cdot \\frac{1}{10}, P_{1}=p_{1^1}*p_{2^1}=\\frac{7}{10} \\cdot \\frac{6}{9} * \\frac{2}{11} \\cdot \\frac{1}{10} = \\frac{7 \\cdot 6 \\cdot 2 \\cdot 1}{10 \\cdot 9 \\cdot 11 \\cdot 10}$"
   ]
  },
  {
   "cell_type": "markdown",
   "id": "bca930aa",
   "metadata": {},
   "source": [
    "<br>б+нб (1) & б+нб (2) $ p_{1^2}= \\frac{7}{10} \\cdot \\frac{3}{9},  p_{2^2}= \\frac{9}{11} \\cdot \\frac{2}{10}, P_{2}=p_{1^2}*p_{2^2}=\\frac{7}{10} \\cdot \\frac{3}{9} * \\frac{9}{11} \\cdot \\frac{2}{10} = \\frac{7 \\cdot 3 \\cdot 9 \\cdot 2}{10 \\cdot 9 \\cdot 11 \\cdot 10}$"
   ]
  },
  {
   "cell_type": "markdown",
   "id": "2c87cd3e",
   "metadata": {},
   "source": [
    "<br>б+нб (1) & нб+б (2) $ p_{1^3}= \\frac{7}{10} \\cdot \\frac{3}{9},  p_{2^3}= \\frac{2}{11} \\cdot \\frac{9}{10}, P_{3}=p_{1^3}*p_{2^3}=\\frac{7}{10} \\cdot \\frac{3}{9} * \\frac{2}{11} \\cdot \\frac{9}{10} = \\frac{7 \\cdot 3 \\cdot 2 \\cdot 9}{10 \\cdot 9 \\cdot 11 \\cdot 10}$"
   ]
  },
  {
   "cell_type": "markdown",
   "id": "ab8f660f",
   "metadata": {},
   "source": [
    "\n",
    "<br>нб+б (1) & б+нб (2) $ p_{1^4}= \\frac{3}{10} \\cdot \\frac{7}{9},  p_{2^4}= \\frac{9}{11} \\cdot \\frac{2}{10}, P_{4}=p_{1^4}*p_{2^4}=\\frac{3}{10} \\cdot \\frac{7}{9} * \\frac{9}{11} \\cdot \\frac{2}{10} = \\frac{3 \\cdot 7 \\cdot 9 \\cdot 2}{10 \\cdot 9 \\cdot 11 \\cdot 10}$\n"
   ]
  },
  {
   "cell_type": "markdown",
   "id": "9a31d2cc",
   "metadata": {},
   "source": [
    "<br>нб+б (1) & нб+б (2)$ p_{1^5}= \\frac{3}{10} \\cdot \\frac{7}{9},  p_{2^5}= \\frac{2}{11} \\cdot \\frac{9}{10}, P_{5}=p_{1^5}*p_{2^5}=\\frac{3}{10} \\cdot \\frac{7}{9} * \\frac{2}{11} \\cdot \\frac{9}{10} = \\frac{3 \\cdot 7 \\cdot 2 \\cdot 9}{10 \\cdot 9 \\cdot 11 \\cdot 10}$"
   ]
  },
  {
   "cell_type": "markdown",
   "id": "d172af48",
   "metadata": {},
   "source": [
    "<br>нб+нб (1) & б+б (2)$ p_{1^6}= \\frac{3}{10} \\cdot \\frac{2}{9},  p_{2^6}= \\frac{9}{11} \\cdot \\frac{8}{10}, P_{6}=p_{1^6}*p_{2^6}=\\frac{3}{10} \\cdot \\frac{2}{9} * \\frac{9}{11} \\cdot \\frac{8}{10} = \\frac{3 \\cdot 2 \\cdot 9 \\cdot 8}{10 \\cdot 9 \\cdot 11 \\cdot 10}$\n"
   ]
  },
  {
   "cell_type": "code",
   "execution_count": 7,
   "id": "128a9a09",
   "metadata": {},
   "outputs": [
    {
     "name": "stdout",
     "output_type": "stream",
     "text": [
      "Проверка: 0.205 = 20.485%\n"
     ]
    }
   ],
   "source": [
    "P_result = 0.7*(6/9)*(2/11)*0.1 + 0.7*(3/9)*(9/11)*0.2 + 0.7*(3/9)*(2/11)*0.9 + 0.3*(7/9)*(9/11)*0.2 + 0.3*(7/9)*(9/11)*0.2 + 0.3*(2/9)*(9/11)*0.8\n",
    "print(f'Проверка: {round(P_result,3)} = {round(100*P_result,3)}%')"
   ]
  },
  {
   "cell_type": "markdown",
   "id": "a27cea67",
   "metadata": {},
   "source": [
    "Если смотреть вероятность в каждом ящике (в рамках одного ящика) доставать сначала одного цвета, а потом другого, то вероятность будет одинакова -неважно нб+б или б+нб: поэтому можно обозначить эти варианты как:\n",
    "\n",
    "1 ящик: нб+б or б+нб: $p_{1} = \\frac{3}{10} \\cdot \\frac{7}{9}$\n",
    "2 ящик: нб+б or б+нб: $p_{2} = \\frac{2}{11} \\cdot \\frac{9}{10}$\n",
    "\n",
    "тогда вероятность:\n",
    "\n",
    "<br>нб+б (1) & б+нб (2)\n",
    "<br>нб+б (1) & нб+б (2)\n",
    "<br>б+нб (1) & нб+б (2)\n",
    "<br>б+нб (1) & б+нб (2)\n",
    "\n",
    "равно как $ 4*p_{1}*p_{2}$\n",
    "\n",
    "и останется только добавить: <br>б+б (1) & нб+нб (2)<br>нб+нб (1) & б+б (2) уже посчитали выше:"
   ]
  },
  {
   "cell_type": "code",
   "execution_count": 8,
   "id": "39d20f66",
   "metadata": {},
   "outputs": [
    {
     "name": "stdout",
     "output_type": "stream",
     "text": [
      "Проверка: 0.205 = 20.485%\n"
     ]
    }
   ],
   "source": [
    "P_result = 0.7*(6/9)*(2/11)*0.1 + 4*0.7*(3/9)*(9/11)*0.2 + 0.3*(2/9)*(9/11)*0.8\n",
    "print(f'Проверка: {round(P_result,3)} = {round(100*P_result,3)}%')"
   ]
  },
  {
   "cell_type": "markdown",
   "id": "89bf381a",
   "metadata": {},
   "source": [
    "в)Какова вероятность того, что хотя бы один мяч белый?"
   ]
  },
  {
   "cell_type": "markdown",
   "id": "20eec944",
   "metadata": {},
   "source": [
    "<br>нб+нб (1) & нб+нб (2) - вероятность, что все черные:"
   ]
  },
  {
   "cell_type": "markdown",
   "id": "94207ec4",
   "metadata": {},
   "source": [
    "$ p_{1^{нб}}= \\frac{3}{10} \\cdot \\frac{2}{9}$, тут мы достаем подряд два не белых из 1-ого ящика.\n",
    "\n",
    "$p_{2^{нб}}= \\frac{2}{11} \\cdot \\frac{1}{10}$, тут мы достаем подряд два не белых из 2-ого ящика.\n",
    "\n",
    "$P_{нб}=p_{1^{нб}}*p_{2^{нб}}=\\frac{3}{10} \\cdot \\frac{2}{9} * \\frac{2}{11} \\cdot \\frac{1}{10} = \\frac{3 \\cdot 2 \\cdot 2 \\cdot 1}{10 \\cdot 9 \\cdot 11 \\cdot 10}$"
   ]
  },
  {
   "cell_type": "markdown",
   "id": "c2323c50",
   "metadata": {},
   "source": [
    "Тогда вероятность, что хотя бы один белый, будет:\n",
    "\n",
    "$P_{atleastonewhite}= 1 - P_{нб} = 1 - \\frac{3 \\cdot 2 \\cdot 2 \\cdot 1}{10 \\cdot 9 \\cdot 11 \\cdot 10} = 1 - \\frac{1 \\cdot 1 \\cdot 1 \\cdot 1}{5 \\cdot 3 \\cdot 11 \\cdot 5} = \\frac {25 \\cdot 33 - 1}{25 \\cdot 33}=\\frac {824}{825} = 0.99879$"
   ]
  },
  {
   "cell_type": "code",
   "execution_count": 9,
   "id": "a0bd89de",
   "metadata": {},
   "outputs": [
    {
     "name": "stdout",
     "output_type": "stream",
     "text": [
      "Вероятность, что хотя бы один белый: 0.999 = 99.879%\n",
      "Вероятность, что все не белые: 0.001 = 0.121%\n"
     ]
    }
   ],
   "source": [
    "P_allblack = 0.3*(2/9)*(2/11)*0.1\n",
    "P_atleastonewhite = 1 - 0.3*(2/9)*(2/11)*0.1\n",
    "print(f'Вероятность, что хотя бы один белый: {round(P_atleastonewhite,3)} = {round(100*P_atleastonewhite,3)}%\\nВероятность, что все не белые: {round(P_allblack,3)} = {round(100*P_allblack,3)}%')"
   ]
  },
  {
   "cell_type": "code",
   "execution_count": null,
   "id": "cffe0bb4",
   "metadata": {},
   "outputs": [],
   "source": []
  }
 ],
 "metadata": {
  "kernelspec": {
   "display_name": "Python 3 (ipykernel)",
   "language": "python",
   "name": "python3"
  },
  "language_info": {
   "codemirror_mode": {
    "name": "ipython",
    "version": 3
   },
   "file_extension": ".py",
   "mimetype": "text/x-python",
   "name": "python",
   "nbconvert_exporter": "python",
   "pygments_lexer": "ipython3",
   "version": "3.8.10"
  }
 },
 "nbformat": 4,
 "nbformat_minor": 5
}
