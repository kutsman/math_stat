{
 "cells": [
  {
   "cell_type": "code",
   "execution_count": 1,
   "id": "a587438c",
   "metadata": {},
   "outputs": [],
   "source": [
    "import numpy as np"
   ]
  },
  {
   "cell_type": "markdown",
   "id": "1620508a",
   "metadata": {},
   "source": [
    "Задание 1. Даны значения зарплат из выборки выпускников: 100, 80, 75, 77, 89, 33, 45, 25, 65, 17, 30, 24, 57, 55, 70, 75, 65, 84, 90, 150. Посчитать (желательно без использования статистических методов наподобие std, var, mean) среднее арифметическое, среднее квадратичное отклонение, смещенную и несмещенную оценки дисперсий для данной выборки."
   ]
  },
  {
   "cell_type": "markdown",
   "id": "09df004e",
   "metadata": {},
   "source": [
    "$$M(X) = \\frac{1}{n} \\sum\\limits_{i=1}^{n} x_i$$"
   ]
  },
  {
   "cell_type": "markdown",
   "id": "146f9a4a",
   "metadata": {},
   "source": [
    "Среднее арифметическое:\n",
    "\n",
    "где $n = 20$ количество выпускников в выборке.\n",
    "\n",
    "$x=\\frac{100+80+75+77+89+33+45+25+65+17+30+24+57+55+70+75+65+84+90+150}{20}=\\frac{1306}{20}$"
   ]
  },
  {
   "cell_type": "markdown",
   "id": "7d92f2f2",
   "metadata": {},
   "source": [
    "Среднее квадратичное отклонение:\n",
    "\n",
    "$$\\sigma = \\sqrt{\\frac{\\sum\\limits_{i=1}^{n} (x_i - \\overline{x})^2}{n}}$$"
   ]
  },
  {
   "cell_type": "markdown",
   "id": "2a955f1e",
   "metadata": {},
   "source": [
    "$$\\sigma = \\sqrt{\\frac{(100-65.3)^2+(80-65.3)^2+(75-65.3)^2+(77-65.3)^2+(89-65.3)^2+(33-65.3)^2+(45-65.3)^2+(25-65.3)^2+(65-65.3)^2+(17-65.3)^2+(30-65.3)^2+(24-65.3)^2+(57-65.3)^2+(55-65.3)^2+(70-65.3)^2+(75-65.3)^2+(65-65.3)^2+(84-65.3)^2+(90-65.3)^2+(150-65.3)^2}{20}}=\\sqrt{\\frac{(34.7)^2+(14.7)^2+(9.7)^2+(11.7)^2+(23.7)^2+(-32.3)^2+(-20.3)^2+(-40.3)^2+(-0.3)^2+(-48.3)^2+(-35.3)^2+(-41.3)^2+(-8.3)^2+(-10.3)^2+(4.7)^2+(9.7)^2+(-0.3)^2+(18.7)^2+(24.7)^2+(84.7)^2}{20}}=\\sqrt{\\frac{1204.09+216.09+94.09+136.89+561.69+1043.29+412.09+1624.09+0.09+2332.89+1246.09+1705.69+68.89+106.09+22.09+94.09+0.09+349.69+610.09+7174.09}{20}}=\\sqrt{\\frac{19002.2}{20}}=\\sqrt{950.11}=30.82$$"
   ]
  },
  {
   "cell_type": "code",
   "execution_count": 2,
   "id": "59c82f0f",
   "metadata": {},
   "outputs": [
    {
     "data": {
      "text/plain": [
       "19002.2"
      ]
     },
     "execution_count": 2,
     "metadata": {},
     "output_type": "execute_result"
    }
   ],
   "source": [
    "a=1204.09+216.09+94.09+136.89+561.69+1043.29+412.09+1624.09+0.09+2332.89+1246.09+1705.69+68.89+106.09+22.09+94.09+0.09+349.69+610.09+7174.09\n",
    "a"
   ]
  },
  {
   "cell_type": "code",
   "execution_count": 3,
   "id": "b88b5fd6",
   "metadata": {},
   "outputs": [
    {
     "data": {
      "text/plain": [
       "30.823854398825596"
      ]
     },
     "execution_count": 3,
     "metadata": {},
     "output_type": "execute_result"
    }
   ],
   "source": [
    "np.sqrt(19002.2/20)"
   ]
  },
  {
   "cell_type": "markdown",
   "id": "4984aece",
   "metadata": {},
   "source": [
    "$$\\sigma^2 = \\frac{\\sum\\limits_{i=1}^{n} (x_i - \\overline{x})^2}{n}$$\n",
    "$$\\sigma^2_{несмещ.} = \\frac{\\sum\\limits_{i=1}^{n} (x_i - \\overline{x})^2}{n - 1}$$"
   ]
  },
  {
   "cell_type": "markdown",
   "id": "6eb35895",
   "metadata": {},
   "source": [
    "$$\\sigma^2_{несмещ.}=\\sqrt{\\frac{19002.2}{19}}=\\sqrt{\\frac{5 \\cdot 19002+1}{5} \\cdot \\frac{1}{19}}=\\sqrt{\\frac{95010+1}{5} \\cdot \\frac{1}{19}}=\\sqrt{950.11}=\\sqrt{\\frac{95011}{5 \\cdot 19}}=\\sqrt{\\frac{95011}{95}}=\\sqrt{1000.11579}=31.62$$"
   ]
  },
  {
   "cell_type": "code",
   "execution_count": 4,
   "id": "636144d9",
   "metadata": {},
   "outputs": [
    {
     "data": {
      "text/plain": [
       "31.624607341019814"
      ]
     },
     "execution_count": 4,
     "metadata": {},
     "output_type": "execute_result"
    }
   ],
   "source": [
    "np.sqrt(95011/95)"
   ]
  },
  {
   "cell_type": "code",
   "execution_count": 5,
   "id": "61512d0b",
   "metadata": {},
   "outputs": [
    {
     "name": "stdout",
     "output_type": "stream",
     "text": [
      "Массив = [100  80  75  77  89  33  45  25  65  17  30  24  57  55  70  75  65  84\n",
      "  90 150]\n",
      "Длина массива = 20\n",
      "Функция mean(a) = 65.3 вычисляет среднее арифметическое значений элементов массива.\n",
      "Функция var(a) = 950.11 вычисляет дисперсию значений элементов массива.\n",
      "Функция std(a) = 30.82 вычисляет среднеквадратичное (стандартное) отклонение значений элементов массива.\n"
     ]
    }
   ],
   "source": [
    "a = np.array([100, 80, 75, 77, 89, 33, 45, 25, 65, 17, 30, 24, 57, 55, 70, 75, 65, 84, 90, 150])\n",
    "print(f'Массив = {a}')\n",
    "print(f'Длина массива = {a.size}')\n",
    "print(f'Функция mean(a) = {round(np.mean(a),2)} вычисляет среднее арифметическое значений элементов массива.')\n",
    "print(f'Функция var(a) = {round(np.var(a),2)} вычисляет дисперсию значений элементов массива.')\n",
    "print(f'Функция std(a) = {round(np.std(a),2)} вычисляет среднеквадратичное (стандартное) отклонение значений элементов массива.')"
   ]
  },
  {
   "cell_type": "markdown",
   "id": "04f4f82b",
   "metadata": {},
   "source": [
    "Задание 2. В первом ящике находится 8 мячей, из которых 5 - белые. Во втором ящике - 12 мячей, из которых 5 белых. Из первого ящика вытаскивают случайным образом два мяча, из второго - 4. Какова вероятность того, что 3 мяча белые?"
   ]
  },
  {
   "cell_type": "markdown",
   "id": "b1f808c3",
   "metadata": {},
   "source": [
    "Вариантов комбинаций несколько:\n",
    "\n",
    "(1) бб (2) бччч $ p_{1^1}= \\frac{5}{8} \\cdot \\frac{4}{7},  p_{2^1}= \\frac{5}{12} \\cdot \\frac{7}{11} \\cdot \\frac{6}{10} \\cdot \\frac{5}{9}, P_{1}=p_{1^1}*p_{2^1}=\\frac{5}{8} \\cdot \\frac{4}{7} * \\frac{5}{12} \\cdot \\frac{7}{11} \\cdot \\frac{6}{10} \\cdot \\frac{5}{9} = \\frac{5 \\cdot 4 \\cdot 5 \\cdot 7 \\cdot 6 \\cdot 5}{8 \\cdot 7 \\cdot 12 \\cdot 11 \\cdot 10 \\cdot 9}$\n",
    "\n",
    "(1) бч (2)ббчч $ p_{1^2}= \\frac{5}{8} \\cdot \\frac{3}{7},  p_{2^2}= \\frac{5}{12} \\cdot \\frac{4}{11} \\cdot \\frac{7}{10} \\cdot \\frac{6}{9}, P_{2}=p_{1^2}*p_{2^2}=\\frac{5}{8} \\cdot \\frac{3}{7} * \\frac{5}{12} \\cdot \\frac{4}{11} \\cdot \\frac{7}{10} \\cdot \\frac{6}{9} = \\frac{5 \\cdot 3 \\cdot 5 \\cdot 4 \\cdot 7 \\cdot 6}{8 \\cdot 7 \\cdot 12 \\cdot 11 \\cdot 10 \\cdot 9}$\n",
    "\n",
    "(1) чч (2)бббч $ p_{1^3}= \\frac{3}{8} \\cdot \\frac{2}{7},  p_{2^3}= \\frac{5}{12} \\cdot \\frac{4}{11} \\cdot \\frac{3}{10} \\cdot \\frac{7}{9}, P_{3}=p_{1^3}*p_{2^3}=\\frac{3}{8} \\cdot \\frac{2}{7} * \\frac{5}{12} \\cdot \\frac{4}{11} \\cdot \\frac{3}{10} \\cdot \\frac{7}{9} = \\frac{3 \\cdot 2 \\cdot 5 \\cdot 4 \\cdot 3 \\cdot 7}{8 \\cdot 7 \\cdot 12 \\cdot 11 \\cdot 10 \\cdot 9}$"
   ]
  },
  {
   "cell_type": "markdown",
   "id": "a5ed7d25",
   "metadata": {},
   "source": [
    "Общие варианты комбинаций:\n",
    "\n",
    "(1)бб (2)бччч\n",
    "<br>(1)бб (2)чбчч\n",
    "<br>(1)бб (2)ччбч\n",
    "<br>(1)бб (2)чччб - 4 комбинации, вероятность каждой комбинации одинакова, можем умножить вероятность первой на 4\n",
    "\n",
    "(1)бч (2)ббчч\n",
    "<br>(1)бч (2)бчбч\n",
    "<br>(1)бч (2)бччб\n",
    "<br>(1)бч (2)ччбб\n",
    "<br>(1)бч (2)чбчб\n",
    "<br>(1)бч (2)чббч \n",
    "<br>(1)чб (2)ббчч\n",
    "<br>(1)чб (2)бчбч\n",
    "<br>(1)чб (2)бччб\n",
    "<br>(1)чб (2)ччбб\n",
    "<br>(1)чб (2)чбчб\n",
    "<br>(1)чб (2)чббч - 12 комбинаций, вероятность каждой комбинации одинакова, можем умножить вероятность первой на 12\n",
    "\n",
    "(1)чч (2)бббч\n",
    "<br>(1)чч (2)бчбб\n",
    "<br>(1)чч (2)ббчб\n",
    "<br>(1)чч (2)чббб - 4 комбинации, вероятность каждой комбинации одинакова, можем умножить вероятность первой на 4.\n",
    "\n",
    "вероятность для первых посчитали выше.\n",
    "\n",
    "\n",
    "\n",
    "$P=4 \\cdot \\frac{5 \\cdot 4 \\cdot 5 \\cdot 7 \\cdot 6 \\cdot 5}{8 \\cdot 7 \\cdot 12 \\cdot 11 \\cdot 10 \\cdot 9}+12 \\cdot \\frac{5 \\cdot 3 \\cdot 5 \\cdot 4 \\cdot 7 \\cdot 6}{8 \\cdot 7 \\cdot 12 \\cdot 11 \\cdot 10 \\cdot 9}+4 \\cdot \\frac{3 \\cdot 2 \\cdot 5 \\cdot 4 \\cdot 3 \\cdot 7}{8 \\cdot 7 \\cdot 12 \\cdot 11 \\cdot 10 \\cdot 9}=\\frac{4 \\cdot 5 \\cdot 4 \\cdot 5 \\cdot 7 \\cdot 6 \\cdot 5 + 12 \\cdot 5 \\cdot 3 \\cdot 5 \\cdot 4 \\cdot 7 \\cdot 6 + 4 \\cdot 3 \\cdot 2 \\cdot 5 \\cdot 4 \\cdot 3 \\cdot 7}{8 \\cdot 7 \\cdot 12 \\cdot 11 \\cdot 10 \\cdot 9}=\\frac{1 \\cdot 5 \\cdot 4 \\cdot 5 \\cdot 7 \\cdot 1 \\cdot 1 + 1 \\cdot 1 \\cdot 3 \\cdot 5 \\cdot 2 \\cdot 7 \\cdot 6 + 1 \\cdot 1 \\cdot 1 \\cdot 4 \\cdot 3 \\cdot 7}{8 \\cdot 7 \\cdot 1 \\cdot 11 \\cdot 1 \\cdot 9}=\\frac{5 \\cdot 4 \\cdot 5 \\cdot 7  + 3 \\cdot 5 \\cdot 2 \\cdot 7 \\cdot 6 + 4 \\cdot 3 \\cdot 7}{8 \\cdot 7 \\cdot 11 \\cdot 9}= \\frac{700+1260+84}{8 \\cdot 7 \\cdot 11 \\cdot 9}=\\frac{2044}{8 \\cdot 7 \\cdot 11 \\cdot 9}=\\frac{511}{2 \\cdot 7 \\cdot 11 \\cdot 9}=\\frac{73}{2 \\cdot 11 \\cdot 9}=\\frac{73}{198}=0,36868$"
   ]
  },
  {
   "cell_type": "code",
   "execution_count": 6,
   "id": "bf9e1898",
   "metadata": {},
   "outputs": [
    {
     "name": "stdout",
     "output_type": "stream",
     "text": [
      "36.87%\n"
     ]
    }
   ],
   "source": [
    "print(f'{round(73/198*100, 2)}%')"
   ]
  },
  {
   "cell_type": "markdown",
   "id": "63758a45",
   "metadata": {},
   "source": [
    "Задание 3. В университет на факультеты A и B поступило равное количество студентов, а на факультет C студентов поступило столько же, сколько на A и B вместе. Вероятность того, что студент факультета A сдаст первую сессию, равна 0.8. Для студента факультета B эта вероятность равна 0.7, а для студента факультета C - 0.9. Студент сдал первую сессию. Какова вероятность, что он учится: \n",
    "<br>a). на факультете A \n",
    "<br>б). на факультете B \n",
    "<br>в). на факультете C?"
   ]
  },
  {
   "cell_type": "markdown",
   "id": "8b7924cc",
   "metadata": {},
   "source": [
    "$$P(A\\:|\\:B_1) = 0.8$$\n",
    "\n",
    "$$P(A\\:|\\:B_2) = 0.7$$\n",
    "\n",
    "$$P(A\\:|\\:B_3) = 0.9$$\n",
    "\n",
    "$$P(B\\:|\\:A) = \\frac{P(B) \\cdot P(A\\:|\\:B)}{P(A)}$$\n",
    "\n",
    "$$P(A)=P(B1)⋅P(A|B1)+P(B2)⋅P(A|B2)+...+P(Bn)⋅P(A|Bn)$$"
   ]
  },
  {
   "cell_type": "markdown",
   "id": "7af0b26e",
   "metadata": {},
   "source": [
    "a). на факультете A\n",
    "\n",
    "$$P(B_{1}\\:|\\:A) = \\frac{P(B_{1}) \\cdot P(A\\:|\\:B_{1})}{P(A)}$$\n",
    "\n",
    "$$P(A)=P(B_1)⋅P(A|B_1)+P(B_2)⋅P(A|B_2)+P(B_3)⋅P(A|B_3)$$\n",
    "\n",
    "$$P(A)=\\frac{1}{4}⋅0.8+\\frac{1}{4}⋅0.7+\\frac{1}{2}⋅0.9=\\frac{0.8+0.7+2⋅0.9}{4}=\\frac{3.3}{4}=\\frac{33}{40}$$\n",
    "\n",
    "$$P(B_{1}\\:|\\:A) = \\frac{P(B_{1}) \\cdot P(A\\:|\\:B_{1})}{P(A)}=\\frac{P(B_{1}) \\cdot P(A\\:|\\:B_{1})}{P(A)}=\\frac{\\frac{1}{4} \\cdot \\frac{4}{5}}{\\frac{33}{40}}=\\frac{\\frac{1}{5}}{\\frac{33}{40}}=\\frac{1}{5} \\cdot \\frac{40}{33}=\\frac{8}{33}=0.24$$"
   ]
  },
  {
   "cell_type": "code",
   "execution_count": 7,
   "id": "a6c87983",
   "metadata": {},
   "outputs": [
    {
     "data": {
      "text/plain": [
       "3.3"
      ]
     },
     "execution_count": 7,
     "metadata": {},
     "output_type": "execute_result"
    }
   ],
   "source": [
    "0.8+0.7+2*0.9"
   ]
  },
  {
   "cell_type": "code",
   "execution_count": 8,
   "id": "af0953c6",
   "metadata": {},
   "outputs": [
    {
     "data": {
      "text/plain": [
       "0.24242424242424243"
      ]
     },
     "execution_count": 8,
     "metadata": {},
     "output_type": "execute_result"
    }
   ],
   "source": [
    "8/33"
   ]
  },
  {
   "cell_type": "markdown",
   "id": "8f5ebabf",
   "metadata": {},
   "source": [
    "б). на факультете В\n",
    "\n",
    "$$P(A)=\\frac{33}{40}$$\n",
    "\n",
    "$$P(B_{2}\\:|\\:A) = \\frac{P(B_{2}) \\cdot P(A\\:|\\:B_{2})}{P(A)}=\\frac{\\frac{1}{4} \\cdot \\frac{7}{10}}{\\frac{33}{40}}=\\frac{\\frac{7}{40}}{\\frac{33}{40}}=\\frac{7}{40} \\cdot \\frac{40}{33}=\\frac{7}{33}=0.21$$"
   ]
  },
  {
   "cell_type": "code",
   "execution_count": 9,
   "id": "0f36f015",
   "metadata": {},
   "outputs": [
    {
     "data": {
      "text/plain": [
       "0.21212121212121213"
      ]
     },
     "execution_count": 9,
     "metadata": {},
     "output_type": "execute_result"
    }
   ],
   "source": [
    "7/33"
   ]
  },
  {
   "cell_type": "markdown",
   "id": "0d505841",
   "metadata": {},
   "source": [
    "в). на факультете C\n",
    "\n",
    "$$P(A)=\\frac{33}{40}$$\n",
    "\n",
    "$$P(B_{3}\\:|\\:A) = \\frac{P(B_{3}) \\cdot P(A\\:|\\:B_{3})}{P(A)}=\\frac{\\frac{1}{2} \\cdot \\frac{9}{10}}{\\frac{33}{40}}=\\frac{\\frac{9}{20}}{\\frac{33}{40}}=\\frac{9}{20} \\cdot \\frac{40}{33}=\\frac{18}{33}=0.54$$"
   ]
  },
  {
   "cell_type": "code",
   "execution_count": 10,
   "id": "687adb89",
   "metadata": {},
   "outputs": [
    {
     "data": {
      "text/plain": [
       "0.5454545454545454"
      ]
     },
     "execution_count": 10,
     "metadata": {},
     "output_type": "execute_result"
    }
   ],
   "source": [
    "18/33"
   ]
  },
  {
   "cell_type": "markdown",
   "id": "4e56dbb6",
   "metadata": {},
   "source": [
    "Задача 4. Устройство состоит из трех деталей. Для первой детали вероятность выйти из строя в первый месяц равна 0.1, для второй - 0.2, для третьей - 0.25. Какова вероятность того, что в первый месяц выйдут из строя: \n",
    "<br>а). все детали <br>б). только две детали <br>в). хотя бы одна деталь <br>г). от одной до двух деталей?"
   ]
  },
  {
   "cell_type": "markdown",
   "id": "883e599e",
   "metadata": {},
   "source": [
    "$P_1=0.1$\n",
    "<br>$P_2=0.2$\n",
    "<br>$P_3=0.25$"
   ]
  },
  {
   "cell_type": "markdown",
   "id": "d5ff1052",
   "metadata": {},
   "source": [
    "a). break(1) break(2) break(3)\n",
    "\n",
    "$P=P_1(A) \\cdot P_2(A) \\cdot P_3(A) =0.1 \\cdot 0.2 \\cdot 0.25 \\cdot = \\frac{1}{10} \\cdot \\frac{1}{5} \\cdot \\frac{1}{4}=\\frac{1}{200}$"
   ]
  },
  {
   "cell_type": "markdown",
   "id": "f3d1cf93",
   "metadata": {},
   "source": [
    "б). только две детали<br>break(1) break(2) not(3)\n",
    "<br>$ p_{1}= \\frac{1}{10} \\cdot \\frac{1}{5} \\cdot (1-\\frac{1}{4})$\n",
    "<br>break(1) not(2) break(3)\n",
    "<br>$ p_{2}= \\frac{1}{10} \\cdot (1-\\frac{1}{5}) \\cdot \\frac{1}{4}$\n",
    "<br>not(1) break(2) break(3)\n",
    "<br>$ p_{2}= (1-\\frac{1}{10}) \\cdot \\frac{1}{5} \\cdot \\frac{1}{4}$\n",
    "<br>$P=p_1 + p_2 + p_3=\\frac{1}{10} \\cdot \\frac{1}{5} \\cdot (1-\\frac{1}{4})+\\frac{1}{10} \\cdot (1-\\frac{1}{5}) \\cdot \\frac{1}{4}+(1-\\frac{1}{10}) \\cdot \\frac{1}{5} \\cdot \\frac{1}{4}=\\frac{1}{10} \\cdot \\frac{1}{5} \\cdot \\frac{3}{4}+\\frac{1}{10} \\cdot \\frac{4}{5} \\cdot \\frac{1}{4}+\\frac{9}{10} \\cdot \\frac{1}{5} \\cdot \\frac{1}{4}=\\frac{3+4+9}{10 \\cdot 5 \\cdot 4}=\\frac{16}{10 \\cdot 5 \\cdot 4}=\\frac{2}{5 \\cdot 5 \\cdot 1}=\\frac{2}{25}=0.08$"
   ]
  },
  {
   "cell_type": "code",
   "execution_count": 11,
   "id": "151f7521",
   "metadata": {},
   "outputs": [
    {
     "data": {
      "text/plain": [
       "0.08"
      ]
     },
     "execution_count": 11,
     "metadata": {},
     "output_type": "execute_result"
    }
   ],
   "source": [
    "2/25"
   ]
  },
  {
   "cell_type": "markdown",
   "id": "36e9da61",
   "metadata": {},
   "source": [
    "в). хотя бы одна деталь\n",
    "\n",
    "$ p_{allwork2gether}= (1-\\frac{1}{10}) \\cdot (1-\\frac{1}{5}) \\cdot (1-\\frac{1}{4})=\\frac{9}{10} \\cdot \\frac{4}{5} \\cdot \\frac{3}{4}=\\frac{27}{50}$ тут мы посчитали вероятность что ни одна деталь не сломается\n",
    "\n",
    "<br>Значит если вычтем это из 1 получим вероятность, при которой что-то не будет работать\n",
    "\n",
    "$p_{oneatleast}=1 - \\frac{27}{50}= \\frac{50-27}{50}=\\frac{23}{50}=0.46$"
   ]
  },
  {
   "cell_type": "code",
   "execution_count": 12,
   "id": "8afe4712",
   "metadata": {},
   "outputs": [
    {
     "data": {
      "text/plain": [
       "0.46"
      ]
     },
     "execution_count": 12,
     "metadata": {},
     "output_type": "execute_result"
    }
   ],
   "source": [
    "23/50"
   ]
  },
  {
   "cell_type": "markdown",
   "id": "9774773c",
   "metadata": {},
   "source": [
    "г). от одной до двух деталей?\n",
    "\n",
    "Варианты для одной: <br>break(1) not(2) not(3)\n",
    "<br>$ p_{1}= \\frac{1}{10} \\cdot (1-\\frac{1}{5}) \\cdot (1-\\frac{1}{4})=\\frac{1}{10} \\cdot \\frac{4}{5} \\cdot \\frac{3}{4}$\n",
    "<br>not(1) break(2) not(3)\n",
    "<br>$ p_{2}= (1-\\frac{1}{10}) \\cdot \\frac{1}{5} \\cdot (1-\\frac{1}{4})=\\frac{9}{10} \\cdot \\frac{1}{5} \\cdot \\frac{3}{4}$\n",
    "<br>not(1) not(2) break(3)\n",
    "<br>$ p_{2}= (1-\\frac{1}{10}) \\cdot (1-\\frac{1}{5}) \\cdot \\frac{1}{4}=\\frac{9}{10} \\cdot \\frac{4}{5} \\cdot \\frac{1}{4}$\n",
    "<br>$P_1=p_1 + p_2 + p_3=\\frac{1}{10} \\cdot \\frac{4}{5} \\cdot \\frac{3}{4}+\\frac{9}{10} \\cdot \\frac{1}{5} \\cdot \\frac{3}{4}+\\frac{9}{10} \\cdot \\frac{4}{5} \\cdot \\frac{1}{4}=\\frac{12+27+36}{10 \\cdot 5 \\cdot 4}=\\frac{75}{10 \\cdot 5 \\cdot 4}=\\frac{3}{8}=0.375$\n",
    "\n",
    "Варианты для двух считали выше в варианте б):\n",
    "<br>$ P_2=0.08$\n",
    "\n",
    "Тогда от одной до двух деталей: $P=P_1+P_2=0.375+0.08=0.455$"
   ]
  },
  {
   "cell_type": "code",
   "execution_count": 13,
   "id": "89588b96",
   "metadata": {},
   "outputs": [
    {
     "data": {
      "text/plain": [
       "0.375"
      ]
     },
     "execution_count": 13,
     "metadata": {},
     "output_type": "execute_result"
    }
   ],
   "source": [
    "3/8"
   ]
  },
  {
   "cell_type": "code",
   "execution_count": 14,
   "id": "b4228d44",
   "metadata": {},
   "outputs": [
    {
     "data": {
      "text/plain": [
       "0.455"
      ]
     },
     "execution_count": 14,
     "metadata": {},
     "output_type": "execute_result"
    }
   ],
   "source": [
    "0.375+0.08"
   ]
  },
  {
   "cell_type": "code",
   "execution_count": null,
   "id": "c207a388",
   "metadata": {},
   "outputs": [],
   "source": []
  }
 ],
 "metadata": {
  "kernelspec": {
   "display_name": "Python 3 (ipykernel)",
   "language": "python",
   "name": "python3"
  },
  "language_info": {
   "codemirror_mode": {
    "name": "ipython",
    "version": 3
   },
   "file_extension": ".py",
   "mimetype": "text/x-python",
   "name": "python",
   "nbconvert_exporter": "python",
   "pygments_lexer": "ipython3",
   "version": "3.8.10"
  }
 },
 "nbformat": 4,
 "nbformat_minor": 5
}
