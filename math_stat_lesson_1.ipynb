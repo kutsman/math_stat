{
 "cells": [
  {
   "cell_type": "markdown",
   "id": "d72592fe",
   "metadata": {},
   "source": [
    "Задача 1. Из колоды в 52 карты извлекаются случайным образом 4 карты. \n",
    "<br>a) Найти вероятность того, что все карты – крести. \n",
    "<br>б) Найти вероятность, что среди 4-х карт окажется хотя бы один туз."
   ]
  },
  {
   "cell_type": "markdown",
   "id": "c7501dee",
   "metadata": {},
   "source": [
    "# $P = \\frac{C_{13}^4}{C_{54}^4}=\\frac{\\frac{13!}{4!(13-4)!}}{\\frac{52!}{4!(52-4)!}}=\\frac{\\frac{13!}{4!(9)!}}{\\frac{52!}{4!(48)!}}=\\frac{13!48!}{52!9!}=\\frac{10\\cdot11\\cdot12\\cdot13}{49\\cdot50\\cdot51\\cdot52}=\\frac{1\\cdot11\\cdot3\\cdot13}{49\\cdot5\\cdot51\\cdot13}=\\frac{1\\cdot11\\cdot3}{49\\cdot5\\cdot51}=\\frac{1\\cdot11\\cdot3}{49\\cdot255}=\\frac{11}{49\\cdot85}=\\frac{11}{4165}=0.00264106=0.2641 процент$\n"
   ]
  },
  {
   "cell_type": "code",
   "execution_count": 1,
   "id": "30cbb5d6",
   "metadata": {},
   "outputs": [],
   "source": [
    "import numpy as np\n",
    "from math import factorial\n",
    "def combinations(n, k):\n",
    "    return int(factorial(n) / (factorial(k) * factorial(n - k)))"
   ]
  },
  {
   "cell_type": "code",
   "execution_count": 2,
   "id": "591033e9",
   "metadata": {},
   "outputs": [
    {
     "name": "stdout",
     "output_type": "stream",
     "text": [
      "Вероятность того, что все карты крести = 0.0026410564225690276 = 0.26%\n"
     ]
    }
   ],
   "source": [
    "p=combinations(13, 4)/combinations(52, 4)\n",
    "print(f'Вероятность того, что все карты крести = {p} = {round(p*100, 2)}%')"
   ]
  },
  {
   "cell_type": "markdown",
   "id": "a6b7243b",
   "metadata": {},
   "source": [
    "# $P = 1-\\frac{C_{48}^4}{C_{54}^4}=1-\\frac{\\frac{48!}{4!(48-4)!}}{\\frac{52!}{4!(52-4)!}}=1-\\frac{\\frac{48!}{4!(44)!}}{\\frac{52!}{4!(48)!}}=1-\\frac{48!}{4!(44)!}\\cdot\\frac{4!(48)!}{52!}=1-\\frac{45\\cdot46\\cdot47\\cdot48}{49\\cdot50\\cdot51\\cdot52}=1-\\frac{9\\cdot46\\cdot47\\cdot24}{49\\cdot5\\cdot51\\cdot52}=1-\\frac{9\\cdot46\\cdot47\\cdot6}{49\\cdot5\\cdot51\\cdot13}=1-\\frac{3\\cdot46\\cdot47\\cdot6}{49\\cdot5\\cdot17\\cdot13}=1-\\frac{38916}{54145}=\\frac{54145-38916}{54145}=\\frac{15229}{54145}=0.28126=28.126 процента$\n"
   ]
  },
  {
   "cell_type": "code",
   "execution_count": 3,
   "id": "b8f6c04b",
   "metadata": {},
   "outputs": [
    {
     "name": "stdout",
     "output_type": "stream",
     "text": [
      "Вероятность того, что не выпадет туз = 0.7187367254594146 = 71.874%\n",
      "Вероятность того, что выпадет туз = 0.2812632745405854 = 28.126%\n"
     ]
    }
   ],
   "source": [
    "p1=combinations(48, 4)/combinations(52, 4)\n",
    "print(f'Вероятность того, что не выпадет туз = {p1} = {round(p1*100, 3)}%')\n",
    "print(f'Вероятность того, что выпадет туз = {1-p1} = {round(100-p1*100, 3)}%')"
   ]
  },
  {
   "cell_type": "markdown",
   "id": "8a24eb53",
   "metadata": {},
   "source": [
    "Задание 2. На входной двери подъезда установлен кодовый замок, содержащий десять кнопок с цифрами от 0 до 9. Код содержит три цифры, которые нужно нажать одновременно. Какова вероятность того, что человек, не знающий код, откроет дверь с первой попытки?"
   ]
  },
  {
   "cell_type": "markdown",
   "id": "b949ef55",
   "metadata": {},
   "source": [
    "$P = \\frac{1}{C_{10}^3}=\\frac{1}{\\frac{10!}{3!(10-3)!}}=\\frac{3!(10-3)!}{10!}=\\frac{3!(7)!}{10!}=\\frac{3!}{8\\cdot9\\cdot10}=\\frac{1\\cdot2\\cdot3}{8\\cdot9\\cdot10}=\\frac{1}{8\\cdot3\\cdot5}=0,008333 = 0,833$ процента"
   ]
  },
  {
   "cell_type": "code",
   "execution_count": 4,
   "id": "48a55133",
   "metadata": {},
   "outputs": [
    {
     "name": "stdout",
     "output_type": "stream",
     "text": [
      "Вероятность того, что не выпадет туз = 0.008333333333333333 = 0.833%\n"
     ]
    }
   ],
   "source": [
    "p2=1/combinations(10, 3)\n",
    "print(f'Вероятность того, что не выпадет туз = {p2} = {round(p2*100, 3)}%')"
   ]
  },
  {
   "cell_type": "markdown",
   "id": "b520a945",
   "metadata": {},
   "source": [
    "Задание 3. В ящике имеется 15 деталей, из которых 9 окрашены. Рабочий случайным образом извлекает 3 детали. Какова вероятность того, что все извлеченные детали окрашены?"
   ]
  },
  {
   "cell_type": "markdown",
   "id": "cc5cbde6",
   "metadata": {},
   "source": [
    "$P_{1} = \\frac{9}{15}$ вероятность первая окрашенная,\n",
    "\n",
    "$P_{2} = \\frac{9-1}{15-1}=\\frac{8}{14}$ вероятность вторая окрашенная с учетом, что до этого вытащили 1 окрашенную,\n",
    "\n",
    "$P_{3} = \\frac{9-2}{15-2}=\\frac{7}{13}$ вероятность третья окрашенная с учетом, что до этого вытащили 2 окрашенную\n",
    "\n",
    "Так как вынимаем друг за дружкой умножаем все три вероятности на З = $P_{1}\\cdot P_{2}\\cdot P_{3}=\\frac{9}{15}\\cdot\\frac{8}{14}\\cdot\\frac{7}{13}=\\frac{9\\cdot8\\cdot7}{15\\cdot14\\cdot13}=\\frac{3\\cdot8\\cdot1}{5\\cdot2\\cdot13}=\\frac{3\\cdot4\\cdot1}{5\\cdot1\\cdot13}=\\frac{12}{65}=0,18461=18,461$ процентов"
   ]
  },
  {
   "cell_type": "code",
   "execution_count": 5,
   "id": "192fc6b4",
   "metadata": {},
   "outputs": [
    {
     "name": "stdout",
     "output_type": "stream",
     "text": [
      "Вероятность того, что вытащит три окрашенных детали подрят = 0.18461538461538457 = 18.462%\n"
     ]
    }
   ],
   "source": [
    "def l_combinations(n, k):\n",
    "    return n/k\n",
    "p3=l_combinations(9, 15)*l_combinations(8, 14)*l_combinations(7, 13)\n",
    "print(f'Вероятность того, что вытащит три окрашенных детали подрят = {p3} = {round(p3*100, 3)}%')"
   ]
  },
  {
   "cell_type": "markdown",
   "id": "d0014728",
   "metadata": {},
   "source": [
    "Задача 4. В лотерее 100 билетов. Из них 2 выигрышных. Какова вероятность того, что 2 приобретенных билета окажутся выигрышными?"
   ]
  },
  {
   "cell_type": "markdown",
   "id": "f61e676a",
   "metadata": {},
   "source": [
    "$P = \\frac{1}{C_{100}^2}=\\frac{1}{\\frac{100!}{2!(100-2)!}}=\\frac{2!(98)!}{100!}=\\frac{2}{99\\cdot100}=\\frac{1}{99\\cdot50}=\\frac{1}{4950}=0,00020202=0,02020$ процентов"
   ]
  },
  {
   "cell_type": "code",
   "execution_count": 6,
   "id": "ac7d0f28",
   "metadata": {},
   "outputs": [
    {
     "name": "stdout",
     "output_type": "stream",
     "text": [
      "Вероятность того, что не выпадет туз = 0.00020202020202020202 = 0.02%\n"
     ]
    }
   ],
   "source": [
    "p4=1/combinations(100, 2)\n",
    "print(f'Вероятность того, что не выпадет туз = {p4} = {round(p4*100, 3)}%')"
   ]
  },
  {
   "cell_type": "markdown",
   "id": "a36d7ba7",
   "metadata": {},
   "source": [
    "Задание 5. На соревновании по биатлону один из трех спортсменов стреляет и попадает в мишень. Вероятность попадания для первого спортсмена равна 0.9, для второго — 0.8, для третьего — 0.6. Найти вероятность того, что выстрел произведен: \n",
    "<br>a). первым спортсменом\n",
    "<br>б). вторым спортсменом\n",
    "<br>в). третьим спортсменом."
   ]
  },
  {
   "cell_type": "markdown",
   "id": "0c692acd",
   "metadata": {},
   "source": [
    "Так как спортсменов три, то общая вероятность всех их выстрелов $A = \\frac{1}{3} \\cdot \\frac{9}{10} + \\frac{1}{3} \\cdot \\frac{8}{10}+\\frac{1}{3} \\cdot \\frac{6}{10} = \\frac{3}{10} + \\frac{4}{15}+\\frac{1}{5} = \\frac{9+8+6}{30}=\\frac{23}{30}$"
   ]
  },
  {
   "cell_type": "markdown",
   "id": "0fd00546",
   "metadata": {},
   "source": [
    "Таким образом вероятность того, что выстрел произведен первым спортсменом:\n",
    "$\\frac{1}{3} \\cdot \\frac{9}{10} = \\frac{3}{10} \\cdot \\frac{1}{A}=\\frac{3}{10} \\cdot \\frac{30}{23}= \\frac{90}{230}=\\frac{9}{23}=0,39130=39,130 процента$\n",
    "\n",
    "вторым спортсменом: \n",
    "\n",
    "$\\frac{1}{3} \\cdot \\frac{8}{10} = \\frac{4}{15} \\cdot \\frac{1}{A}=\\frac{4}{15} \\cdot \\frac{30}{23}= \\frac{8}{23}=0,34782 = 34,782 процента$\n",
    "\n",
    "третьим спортсменом:\n",
    "\n",
    "вторым спортсменом: \n",
    "\n",
    "$\\frac{1}{3} \\cdot \\frac{6}{10} = \\frac{1}{5} \\cdot \\frac{1}{A}=\\frac{1}{5} \\cdot \\frac{30}{23}= \\frac{6}{23}=0,26086 = 26,086 процента$\n"
   ]
  },
  {
   "cell_type": "code",
   "execution_count": 7,
   "id": "d10f98d7",
   "metadata": {},
   "outputs": [
    {
     "data": {
      "text/plain": [
       "0.7666666666666666"
      ]
     },
     "execution_count": 7,
     "metadata": {},
     "output_type": "execute_result"
    }
   ],
   "source": [
    "A_shooters = 1/3*0.9+1/3*0.8+1/3*0.6\n",
    "A_shooters"
   ]
  },
  {
   "cell_type": "code",
   "execution_count": 8,
   "id": "46ef6d72",
   "metadata": {},
   "outputs": [
    {
     "name": "stdout",
     "output_type": "stream",
     "text": [
      "Вероятность того, что выстрел произведен:\n",
      " а)первым: 0.391304347826087=39.13%\n",
      " б)вторым: 0.3478260869565218=34.783%\n",
      " в)третьим: 0.2608695652173913=26.087%\n"
     ]
    }
   ],
   "source": [
    "#проверка\n",
    "A_shooters1 = (1/3*0.9)/A_shooters\n",
    "A_shooters2 = (1/3*0.8)/A_shooters\n",
    "A_shooters3 = (1/3*0.6)/A_shooters\n",
    "print(f'Вероятность того, что выстрел произведен:\\n а)первым: {A_shooters1}={round(A_shooters1*100,3)}%\\n б)вторым: {A_shooters2}={round(A_shooters2*100,3)}%\\n в)третьим: {A_shooters3}={round(A_shooters3*100,3)}%')"
   ]
  },
  {
   "cell_type": "code",
   "execution_count": null,
   "id": "c37cc7de",
   "metadata": {},
   "outputs": [],
   "source": []
  }
 ],
 "metadata": {
  "kernelspec": {
   "display_name": "Python 3 (ipykernel)",
   "language": "python",
   "name": "python3"
  },
  "language_info": {
   "codemirror_mode": {
    "name": "ipython",
    "version": 3
   },
   "file_extension": ".py",
   "mimetype": "text/x-python",
   "name": "python",
   "nbconvert_exporter": "python",
   "pygments_lexer": "ipython3",
   "version": "3.8.10"
  }
 },
 "nbformat": 4,
 "nbformat_minor": 5
}
